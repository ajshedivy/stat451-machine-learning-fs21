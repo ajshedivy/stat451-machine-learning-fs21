{
 "cells": [
  {
   "cell_type": "markdown",
   "id": "9f0cafc0-1993-411c-9247-d75ac091280b",
   "metadata": {},
   "source": [
    "# Performance Baselines"
   ]
  },
  {
   "cell_type": "code",
   "execution_count": 59,
   "id": "67ce4a31-1781-4f46-a7ce-e2b1f6cedc8b",
   "metadata": {},
   "outputs": [
    {
     "name": "stdout",
     "output_type": "stream",
     "text": [
      "scikit-learn: 1.0\n",
      "mlxtend     : 0.19.0\n",
      "xgboost     : 1.5.0\n",
      "\n"
     ]
    }
   ],
   "source": [
    "%reload_ext watermark\n",
    "%watermark -p scikit-learn,mlxtend,xgboost"
   ]
  },
  {
   "cell_type": "markdown",
   "id": "20c05f11-e6ad-4f56-8196-facaa5834c45",
   "metadata": {},
   "source": [
    "```\n",
    "Author: Adam Shedivy\n",
    "```"
   ]
  },
  {
   "cell_type": "markdown",
   "id": "381c55c2-1ec2-43fc-8c66-4a2acbc4b857",
   "metadata": {},
   "source": [
    "## Dataset"
   ]
  },
  {
   "cell_type": "markdown",
   "id": "38f4522c-3671-4ce5-acff-bd29143e5392",
   "metadata": {},
   "source": [
    "Source: https://archive.ics.uci.edu/ml/datasets/Dry+Bean+Dataset"
   ]
  },
  {
   "cell_type": "code",
   "execution_count": 2,
   "id": "bf2e92fa-1bf4-4435-a1f3-4e9613ec83d0",
   "metadata": {},
   "outputs": [
    {
     "name": "stdout",
     "output_type": "stream",
     "text": [
      "X_train.shape: (9119, 16)\n",
      "y_train.shape: (9119,)\n",
      "X_test.shape: (4492, 16)\n",
      "y_test.shape: (4492,)\n"
     ]
    }
   ],
   "source": [
    "import pandas as pd\n",
    "\n",
    "\n",
    "X_train = pd.read_csv('https://raw.githubusercontent.com/rasbt/stat451-machine-learning-fs21/main/hw02-starter/dataset/X_train.csv', header=None).values\n",
    "y_train = pd.read_csv('https://raw.githubusercontent.com/rasbt/stat451-machine-learning-fs21/main/hw02-starter/dataset/y_train.csv', header=None).values.ravel().astype(int)\n",
    "\n",
    "X_test = pd.read_csv('https://raw.githubusercontent.com/rasbt/stat451-machine-learning-fs21/main/hw02-starter/dataset/X_test.csv', header=None).values\n",
    "y_test = pd.read_csv('https://raw.githubusercontent.com/rasbt/stat451-machine-learning-fs21/main/hw02-starter/dataset/y_test.csv', header=None).values.ravel().astype(int)\n",
    "\n",
    "print('X_train.shape:', X_train.shape)\n",
    "print('y_train.shape:', y_train.shape)\n",
    "print('X_test.shape:', X_test.shape)\n",
    "print('y_test.shape:', y_test.shape)"
   ]
  },
  {
   "cell_type": "code",
   "execution_count": 3,
   "id": "dfd1ee6f-7163-48ba-ba58-542191985c84",
   "metadata": {},
   "outputs": [
    {
     "name": "stdout",
     "output_type": "stream",
     "text": [
      "Train/Valid/Test sizes: 9119 1824 4492\n"
     ]
    }
   ],
   "source": [
    "from sklearn.model_selection import train_test_split\n",
    "\n",
    "\n",
    "X_train_sub, X_valid, y_train_sub, y_valid = \\\n",
    "    train_test_split(X_train, y_train, test_size=0.2, random_state=1, stratify=y_train)\n",
    "\n",
    "print('Train/Valid/Test sizes:', y_train.shape[0], y_valid.shape[0], y_test.shape[0])"
   ]
  },
  {
   "cell_type": "markdown",
   "id": "3285747b-edfb-4381-9b90-8212a04f6d85",
   "metadata": {},
   "source": [
    "## Baselines"
   ]
  },
  {
   "cell_type": "markdown",
   "id": "1224925f-c4a2-4e28-9693-ff49c43ad694",
   "metadata": {},
   "source": [
    "Compare hyperparameter settings on validation set:"
   ]
  },
  {
   "cell_type": "code",
   "execution_count": 4,
   "id": "2a49887e-6bd5-4d1f-bb5f-e833613c0f2f",
   "metadata": {},
   "outputs": [
    {
     "name": "stdout",
     "output_type": "stream",
     "text": [
      "Train Accuracy: 79.657%\n",
      "Valid Accuracy: 71.162%\n"
     ]
    }
   ],
   "source": [
    "from sklearn.neighbors import KNeighborsClassifier\n",
    "\n",
    "\n",
    "knn = KNeighborsClassifier(n_neighbors=5)\n",
    "knn.fit(X_train_sub, y_train_sub)\n",
    "print(f\"Train Accuracy: {knn.score(X_train_sub, y_train_sub)*100:0.3f}%\")\n",
    "print(f\"Valid Accuracy: {knn.score(X_valid, y_valid)*100:0.3f}%\")"
   ]
  },
  {
   "cell_type": "code",
   "execution_count": 5,
   "id": "2c2c6e00-15cf-4b39-80db-2ddeb46409ad",
   "metadata": {},
   "outputs": [
    {
     "name": "stdout",
     "output_type": "stream",
     "text": [
      "Train Accuracy: 84.003%\n",
      "Valid Accuracy: 71.930%\n"
     ]
    }
   ],
   "source": [
    "knn = KNeighborsClassifier(n_neighbors=3)\n",
    "knn.fit(X_train_sub, y_train_sub)\n",
    "print(f\"Train Accuracy: {knn.score(X_train_sub, y_train_sub)*100:0.3f}%\")\n",
    "print(f\"Valid Accuracy: {knn.score(X_valid, y_valid)*100:0.3f}%\")"
   ]
  },
  {
   "cell_type": "code",
   "execution_count": 6,
   "id": "66df75b8-6358-480b-8b0e-914259a27aea",
   "metadata": {},
   "outputs": [
    {
     "name": "stdout",
     "output_type": "stream",
     "text": [
      "Train Accuracy: 77.478%\n",
      "Valid Accuracy: 69.518%\n"
     ]
    }
   ],
   "source": [
    "knn = KNeighborsClassifier(n_neighbors=7)\n",
    "knn.fit(X_train_sub, y_train_sub)\n",
    "print(f\"Train Accuracy: {knn.score(X_train_sub, y_train_sub)*100:0.3f}%\")\n",
    "print(f\"Valid Accuracy: {knn.score(X_valid, y_valid)*100:0.3f}%\")"
   ]
  },
  {
   "cell_type": "markdown",
   "id": "9e13b5e5-18fe-4acc-8b60-6c6be54ac460",
   "metadata": {},
   "source": [
    "Choose best model and train on whole training set:"
   ]
  },
  {
   "cell_type": "code",
   "execution_count": 7,
   "id": "abc7a3c0-33f8-414c-9572-875bc657c919",
   "metadata": {},
   "outputs": [
    {
     "name": "stdout",
     "output_type": "stream",
     "text": [
      "Train Accuracy: 84.965%\n",
      "Test Accuracy: 71.305%\n"
     ]
    }
   ],
   "source": [
    "model = KNeighborsClassifier(n_neighbors=3)\n",
    "model.fit(X_train, y_train)\n",
    "print(f\"Train Accuracy: {model.score(X_train, y_train)*100:0.3f}%\")\n",
    "print(f\"Test Accuracy: {model.score(X_test, y_test)*100:0.3f}%\")"
   ]
  },
  {
   "cell_type": "markdown",
   "id": "27802ce9-854b-4a15-b8d7-71b02635b2f4",
   "metadata": {},
   "source": [
    "# Out of the box attempt"
   ]
  },
  {
   "cell_type": "markdown",
   "id": "d8f3dd4a-05ff-437e-856a-06e494a0da42",
   "metadata": {},
   "source": [
    "## Decision Trees"
   ]
  },
  {
   "cell_type": "code",
   "execution_count": 3,
   "id": "743ea1cd-35d9-4087-89d4-f528101c36e1",
   "metadata": {},
   "outputs": [
    {
     "name": "stdout",
     "output_type": "stream",
     "text": [
      "Train Accuracy: 62.682%\n",
      "Test Accuracy: 61.932%\n"
     ]
    }
   ],
   "source": [
    "%matplotlib inline\n",
    "import matplotlib.pyplot as plt\n",
    "from sklearn.tree import DecisionTreeClassifier\n",
    "from mlxtend.plotting import plot_decision_regions\n",
    "\n",
    "\n",
    "tree = DecisionTreeClassifier(criterion='entropy', \n",
    "                              max_depth=2, \n",
    "                              random_state=1)\n",
    "tree.fit(X_train, y_train)\n",
    "print(f\"Train Accuracy: {tree.score(X_train, y_train)*100:0.3f}%\")\n",
    "print(f\"Test Accuracy: {tree.score(X_test, y_test)*100:0.3f}%\")"
   ]
  },
  {
   "cell_type": "code",
   "execution_count": 9,
   "id": "26300ce9-f474-4ff7-8b1e-3babc62311b4",
   "metadata": {},
   "outputs": [
    {
     "name": "stdout",
     "output_type": "stream",
     "text": [
      "Train Accuracy: 90.361%\n",
      "Test Accuracy: 88.980%\n"
     ]
    }
   ],
   "source": [
    "tree = DecisionTreeClassifier(criterion='entropy', \n",
    "                              max_depth=5, \n",
    "                              random_state=1)\n",
    "tree.fit(X_train, y_train)\n",
    "print(f\"Train Accuracy: {tree.score(X_train, y_train)*100:0.3f}%\")\n",
    "print(f\"Test Accuracy: {tree.score(X_test, y_test)*100:0.3f}%\")"
   ]
  },
  {
   "cell_type": "markdown",
   "id": "713e8cd0-c5ed-4ab2-933e-4a235752dd4f",
   "metadata": {},
   "source": [
    "## majority Voting"
   ]
  },
  {
   "cell_type": "code",
   "execution_count": 4,
   "id": "b48b1529-0d09-4e51-9a71-508b109c36cc",
   "metadata": {},
   "outputs": [
    {
     "name": "stdout",
     "output_type": "stream",
     "text": [
      "Validation Accuracy: 1.00 [Classifier 1]\n",
      "Validation Accuracy: 0.90 [Classifier 2]\n",
      "Validation Accuracy: 0.91 [Classifier 3]\n",
      "Validation Accuracy: 0.93 [Ensemble]\n",
      "Test Accuracy: 0.90\n"
     ]
    }
   ],
   "source": [
    "from mlxtend.classifier import EnsembleVoteClassifier\n",
    "\n",
    "clf1 = DecisionTreeClassifier(random_state=1, max_depth=None)\n",
    "clf2 = DecisionTreeClassifier(random_state=1, max_depth=5)\n",
    "clf3 = DecisionTreeClassifier(random_state=1, max_depth=6)\n",
    "eclf = EnsembleVoteClassifier(clfs=[clf1, clf2, clf3], weights=[1, 1, 1])\n",
    "\n",
    "labels = ['Classifier 1', 'Classifier 2', 'Classifier 3', 'Ensemble']\n",
    "for clf, label in zip([clf1, clf2, clf3, eclf], labels):\n",
    "\n",
    "    clf.fit(X_train, y_train)\n",
    "    print(\"Validation Accuracy: %0.2f [%s]\" % (clf.score(X_valid, y_valid), label))\n",
    "    \n",
    "print(\"Test Accuracy: %0.2f\" % eclf.score(X_test, y_test))"
   ]
  },
  {
   "cell_type": "markdown",
   "id": "9a2ddbed-9c29-4398-a815-26f0f0307b96",
   "metadata": {},
   "source": [
    "## Bagging"
   ]
  },
  {
   "cell_type": "code",
   "execution_count": 5,
   "id": "5a23b7d3-aedb-4eb6-b5bf-adc1e9caa387",
   "metadata": {},
   "outputs": [
    {
     "name": "stdout",
     "output_type": "stream",
     "text": [
      "Train Accuracy: 100.000%\n",
      "Test Accuracy: 91.986%\n"
     ]
    }
   ],
   "source": [
    "from sklearn.ensemble import BaggingClassifier\n",
    "\n",
    "tree = DecisionTreeClassifier(criterion='entropy',\n",
    "                              random_state=1,\n",
    "                              max_depth=None)\n",
    "\n",
    "\n",
    "bag = BaggingClassifier(base_estimator=tree,\n",
    "                        n_estimators=500,\n",
    "                        oob_score=True,\n",
    "                        bootstrap=True,\n",
    "                        bootstrap_features=False,\n",
    "                        n_jobs=1,\n",
    "                        random_state=1)\n",
    "\n",
    "bag.fit(X_train, y_train)\n",
    "\n",
    "print(f\"Train Accuracy: {bag.score(X_train, y_train)*100:0.3f}%\")\n",
    "print(f\"Test Accuracy: {bag.score(X_test, y_test)*100:0.3f}%\")"
   ]
  },
  {
   "cell_type": "markdown",
   "id": "ceb8afa8-6fbf-488d-824e-bd761374d30f",
   "metadata": {},
   "source": [
    "## 'Boosting' methods"
   ]
  },
  {
   "cell_type": "code",
   "execution_count": 4,
   "id": "cc3d78e9-2df6-41f0-af3a-0bea0de121e7",
   "metadata": {},
   "outputs": [
    {
     "name": "stdout",
     "output_type": "stream",
     "text": [
      "Train Accuracy: 100.000%\n",
      "Test Accuracy: 92.164%\n"
     ]
    }
   ],
   "source": [
    "from sklearn.ensemble import GradientBoostingClassifier\n",
    "\n",
    "\n",
    "boost = GradientBoostingClassifier(\n",
    "    learning_rate=0.1,\n",
    "    n_estimators=100,\n",
    "    max_depth=8,\n",
    "    random_state=1)\n",
    "\n",
    "boost.fit(X_train, y_train)\n",
    "    \n",
    "    \n",
    "print(f\"Train Accuracy: {boost.score(X_train, y_train)*100:0.3f}%\")\n",
    "print(f\"Test Accuracy: {boost.score(X_test, y_test)*100:0.3f}%\")"
   ]
  },
  {
   "cell_type": "code",
   "execution_count": 5,
   "id": "4e96c2f4-5a93-45a2-8f7b-f6b71715c8e3",
   "metadata": {},
   "outputs": [
    {
     "name": "stdout",
     "output_type": "stream",
     "text": [
      "Train Accuracy: 100.000%\n",
      "Test Accuracy: 92.097%\n"
     ]
    }
   ],
   "source": [
    "from sklearn.ensemble import HistGradientBoostingClassifier\n",
    "\n",
    "\n",
    "boost = HistGradientBoostingClassifier(\n",
    "    learning_rate=0.1,\n",
    "    #n_estimators=100,\n",
    "    #max_depth=8,\n",
    "    random_state=1)\n",
    "\n",
    "boost.fit(X_train, y_train)\n",
    "    \n",
    "print(f\"Train Accuracy: {boost.score(X_train, y_train)*100:0.3f}%\")\n",
    "print(f\"Test Accuracy: {boost.score(X_test, y_test)*100:0.3f}%\")"
   ]
  },
  {
   "cell_type": "code",
   "execution_count": 7,
   "id": "47539ad2-5b43-4095-b134-c8ff13bdee1d",
   "metadata": {},
   "outputs": [
    {
     "name": "stdout",
     "output_type": "stream",
     "text": [
      "Train Accuracy: 100.000%\n",
      "Test Accuracy: 92.342%\n"
     ]
    }
   ],
   "source": [
    "import lightgbm as lgb\n",
    "\n",
    "\n",
    "boost = lgb.LGBMClassifier()\n",
    "\n",
    "boost.fit(X_train, y_train)\n",
    "\n",
    "\n",
    "print(f\"Train Accuracy: {boost.score(X_train, y_train)*100:0.3f}%\")\n",
    "print(f\"Test Accuracy: {boost.score(X_test, y_test)*100:0.3f}%\")"
   ]
  },
  {
   "cell_type": "code",
   "execution_count": 45,
   "id": "b5f4081a-7afa-4464-8676-c79623344807",
   "metadata": {},
   "outputs": [
    {
     "name": "stdout",
     "output_type": "stream",
     "text": [
      "Train Accuracy: 97.938%\n",
      "Test Accuracy: 92.631%\n"
     ]
    }
   ],
   "source": [
    "from catboost import CatBoostClassifier\n",
    "\n",
    "\n",
    "boost = CatBoostClassifier(verbose=0,\n",
    "                           n_estimators=300,\n",
    "                           max_depth=6)\n",
    "\n",
    "boost.fit(X_train, y_train)\n",
    "\n",
    "print(f\"Train Accuracy: {boost.score(X_train, y_train)*100:0.3f}%\")\n",
    "print(f\"Test Accuracy: {boost.score(X_test, y_test)*100:0.3f}%\")"
   ]
  },
  {
   "cell_type": "markdown",
   "id": "03104a38-f73b-4ba6-800f-cf73ccfa5e23",
   "metadata": {},
   "source": [
    "# hyperparameter tuning"
   ]
  },
  {
   "cell_type": "code",
   "execution_count": 40,
   "id": "bcc467c2-d2ea-4baf-bfe0-8d63e83f8e6f",
   "metadata": {},
   "outputs": [
    {
     "name": "stdout",
     "output_type": "stream",
     "text": [
      "Fitting 5 folds for each of 6 candidates, totalling 30 fits\n"
     ]
    },
    {
     "name": "stderr",
     "output_type": "stream",
     "text": [
      "Custom logger is already specified. Specify more than one logger at same time is not thread safe."
     ]
    },
    {
     "name": "stdout",
     "output_type": "stream",
     "text": [
      "[CV] END ......................max_depth=5, n_estimators=200; total time=   2.1s\n",
      "[CV] END ......................max_depth=5, n_estimators=200; total time=   2.2s\n",
      "[CV] END ......................max_depth=5, n_estimators=200; total time=   2.4s\n",
      "[CV] END ......................max_depth=5, n_estimators=200; total time=   2.3s\n",
      "[CV] END ......................max_depth=5, n_estimators=200; total time=   2.3s\n",
      "[CV] END ......................max_depth=5, n_estimators=300; total time=   3.9s\n",
      "[CV] END ......................max_depth=5, n_estimators=300; total time=   3.9s\n",
      "[CV] END ......................max_depth=5, n_estimators=300; total time=   3.9s\n",
      "[CV] END ......................max_depth=5, n_estimators=300; total time=   3.7s\n",
      "[CV] END ......................max_depth=5, n_estimators=300; total time=   3.6s\n",
      "[CV] END ......................max_depth=6, n_estimators=200; total time=   4.3s\n",
      "[CV] END ......................max_depth=6, n_estimators=200; total time=   4.2s\n",
      "[CV] END ......................max_depth=6, n_estimators=200; total time=   4.2s\n",
      "[CV] END ......................max_depth=6, n_estimators=200; total time=   4.1s\n",
      "[CV] END ......................max_depth=6, n_estimators=200; total time=   4.1s\n",
      "[CV] END ......................max_depth=6, n_estimators=300; total time=   6.2s\n",
      "[CV] END ......................max_depth=6, n_estimators=300; total time=   6.3s\n",
      "[CV] END ......................max_depth=6, n_estimators=300; total time=   6.3s\n",
      "[CV] END ......................max_depth=6, n_estimators=300; total time=   6.7s\n",
      "[CV] END ......................max_depth=6, n_estimators=300; total time=   6.9s\n",
      "[CV] END ......................max_depth=7, n_estimators=200; total time=  10.1s\n",
      "[CV] END ......................max_depth=7, n_estimators=200; total time=   9.6s\n",
      "[CV] END ......................max_depth=7, n_estimators=200; total time=   9.7s\n",
      "[CV] END ......................max_depth=7, n_estimators=200; total time=  10.4s\n",
      "[CV] END ......................max_depth=7, n_estimators=200; total time=   9.7s\n",
      "[CV] END ......................max_depth=7, n_estimators=300; total time=  14.5s\n",
      "[CV] END ......................max_depth=7, n_estimators=300; total time=  14.5s\n",
      "[CV] END ......................max_depth=7, n_estimators=300; total time=  14.7s\n",
      "[CV] END ......................max_depth=7, n_estimators=300; total time=  15.4s\n",
      "[CV] END ......................max_depth=7, n_estimators=300; total time=  15.4s\n"
     ]
    },
    {
     "data": {
      "text/plain": [
       "GridSearchCV(cv=5,\n",
       "             estimator=<catboost.core.CatBoostClassifier object at 0x0000028A895463D0>,\n",
       "             n_jobs=1,\n",
       "             param_grid={'max_depth': [5, 6, 7], 'n_estimators': [200, 300]},\n",
       "             verbose=2)"
      ]
     },
     "execution_count": 40,
     "metadata": {},
     "output_type": "execute_result"
    }
   ],
   "source": [
    "from scipy.stats import randint\n",
    "from sklearn.model_selection import RandomizedSearchCV, GridSearchCV\n",
    "\n",
    "boost = CatBoostClassifier(verbose=0)\n",
    "\n",
    "params = {'max_depth': [5, 6, 7],'n_estimators':[200, 300]}\n",
    "\n",
    "grid = GridSearchCV(estimator=boost,\n",
    "                    param_grid=params,\n",
    "                    cv=5,\n",
    "                    n_jobs=1,\n",
    "                    verbose=2)\n",
    "\n",
    "grid.fit(X_train, y_train)"
   ]
  },
  {
   "cell_type": "code",
   "execution_count": 47,
   "id": "f5e00ec7-849f-4f71-9e78-d80ef9794d3d",
   "metadata": {},
   "outputs": [
    {
     "data": {
      "text/plain": [
       "{'max_depth': 5, 'n_estimators': 300}"
      ]
     },
     "execution_count": 47,
     "metadata": {},
     "output_type": "execute_result"
    }
   ],
   "source": [
    "grid.best_params_"
   ]
  },
  {
   "cell_type": "code",
   "execution_count": 46,
   "id": "56426f0f-9ca2-4ae3-b6f5-b9292fa960a3",
   "metadata": {},
   "outputs": [
    {
     "name": "stdout",
     "output_type": "stream",
     "text": [
      "Train Accuracy: 97.127%\n",
      "Test Accuracy: 92.654%\n"
     ]
    }
   ],
   "source": [
    "print(f\"Train Accuracy: {grid.score(X_train, y_train)*100:0.3f}%\")\n",
    "print(f\"Test Accuracy: {grid.score(X_test, y_test)*100:0.3f}%\")"
   ]
  }
 ],
 "metadata": {
  "kernelspec": {
   "display_name": "Python 3 (ipykernel)",
   "language": "python",
   "name": "python3"
  },
  "language_info": {
   "codemirror_mode": {
    "name": "ipython",
    "version": 3
   },
   "file_extension": ".py",
   "mimetype": "text/x-python",
   "name": "python",
   "nbconvert_exporter": "python",
   "pygments_lexer": "ipython3",
   "version": "3.9.7"
  }
 },
 "nbformat": 4,
 "nbformat_minor": 5
}
